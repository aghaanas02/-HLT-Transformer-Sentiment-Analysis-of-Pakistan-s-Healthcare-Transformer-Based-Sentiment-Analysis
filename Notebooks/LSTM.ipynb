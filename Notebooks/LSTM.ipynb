{
 "cells": [
  {
   "cell_type": "code",
   "execution_count": 1,
   "id": "5194e07c",
   "metadata": {},
   "outputs": [
    {
     "name": "stdout",
     "output_type": "stream",
     "text": [
      "Requirement already satisfied: tensorflow==2.11.* in c:\\users\\admin\\anaconda3\\lib\\site-packages (2.11.0)\n",
      "Requirement already satisfied: tensorflow-intel==2.11.0 in c:\\users\\admin\\anaconda3\\lib\\site-packages (from tensorflow==2.11.*) (2.11.0)\n",
      "Requirement already satisfied: tensorflow-estimator<2.12,>=2.11.0 in c:\\users\\admin\\anaconda3\\lib\\site-packages (from tensorflow-intel==2.11.0->tensorflow==2.11.*) (2.11.0)\n",
      "Requirement already satisfied: termcolor>=1.1.0 in c:\\users\\admin\\anaconda3\\lib\\site-packages (from tensorflow-intel==2.11.0->tensorflow==2.11.*) (2.2.0)\n",
      "Requirement already satisfied: opt-einsum>=2.3.2 in c:\\users\\admin\\anaconda3\\lib\\site-packages (from tensorflow-intel==2.11.0->tensorflow==2.11.*) (3.3.0)\n",
      "Requirement already satisfied: flatbuffers>=2.0 in c:\\users\\admin\\anaconda3\\lib\\site-packages (from tensorflow-intel==2.11.0->tensorflow==2.11.*) (23.3.3)\n",
      "Requirement already satisfied: tensorflow-io-gcs-filesystem>=0.23.1 in c:\\users\\admin\\anaconda3\\lib\\site-packages (from tensorflow-intel==2.11.0->tensorflow==2.11.*) (0.31.0)\n",
      "Requirement already satisfied: typing-extensions>=3.6.6 in c:\\users\\admin\\anaconda3\\lib\\site-packages (from tensorflow-intel==2.11.0->tensorflow==2.11.*) (4.3.0)\n",
      "Requirement already satisfied: setuptools in c:\\users\\admin\\anaconda3\\lib\\site-packages (from tensorflow-intel==2.11.0->tensorflow==2.11.*) (63.4.1)\n",
      "Requirement already satisfied: numpy>=1.20 in c:\\users\\admin\\anaconda3\\lib\\site-packages (from tensorflow-intel==2.11.0->tensorflow==2.11.*) (1.21.5)\n",
      "Requirement already satisfied: packaging in c:\\users\\admin\\anaconda3\\lib\\site-packages (from tensorflow-intel==2.11.0->tensorflow==2.11.*) (21.3)\n",
      "Requirement already satisfied: six>=1.12.0 in c:\\users\\admin\\anaconda3\\lib\\site-packages (from tensorflow-intel==2.11.0->tensorflow==2.11.*) (1.16.0)\n",
      "Requirement already satisfied: h5py>=2.9.0 in c:\\users\\admin\\anaconda3\\lib\\site-packages (from tensorflow-intel==2.11.0->tensorflow==2.11.*) (3.7.0)\n",
      "Requirement already satisfied: grpcio<2.0,>=1.24.3 in c:\\users\\admin\\anaconda3\\lib\\site-packages (from tensorflow-intel==2.11.0->tensorflow==2.11.*) (1.51.3)\n",
      "Requirement already satisfied: wrapt>=1.11.0 in c:\\users\\admin\\anaconda3\\lib\\site-packages (from tensorflow-intel==2.11.0->tensorflow==2.11.*) (1.14.1)\n",
      "Requirement already satisfied: tensorboard<2.12,>=2.11 in c:\\users\\admin\\anaconda3\\lib\\site-packages (from tensorflow-intel==2.11.0->tensorflow==2.11.*) (2.11.2)\n",
      "Requirement already satisfied: libclang>=13.0.0 in c:\\users\\admin\\anaconda3\\lib\\site-packages (from tensorflow-intel==2.11.0->tensorflow==2.11.*) (15.0.6.1)\n",
      "Requirement already satisfied: astunparse>=1.6.0 in c:\\users\\admin\\anaconda3\\lib\\site-packages (from tensorflow-intel==2.11.0->tensorflow==2.11.*) (1.6.3)\n",
      "Requirement already satisfied: keras<2.12,>=2.11.0 in c:\\users\\admin\\anaconda3\\lib\\site-packages (from tensorflow-intel==2.11.0->tensorflow==2.11.*) (2.11.0)\n",
      "Requirement already satisfied: gast<=0.4.0,>=0.2.1 in c:\\users\\admin\\anaconda3\\lib\\site-packages (from tensorflow-intel==2.11.0->tensorflow==2.11.*) (0.4.0)\n",
      "Requirement already satisfied: protobuf<3.20,>=3.9.2 in c:\\users\\admin\\anaconda3\\lib\\site-packages (from tensorflow-intel==2.11.0->tensorflow==2.11.*) (3.19.6)\n",
      "Requirement already satisfied: absl-py>=1.0.0 in c:\\users\\admin\\anaconda3\\lib\\site-packages (from tensorflow-intel==2.11.0->tensorflow==2.11.*) (1.4.0)\n",
      "Requirement already satisfied: google-pasta>=0.1.1 in c:\\users\\admin\\anaconda3\\lib\\site-packages (from tensorflow-intel==2.11.0->tensorflow==2.11.*) (0.2.0)\n",
      "Requirement already satisfied: wheel<1.0,>=0.23.0 in c:\\users\\admin\\anaconda3\\lib\\site-packages (from astunparse>=1.6.0->tensorflow-intel==2.11.0->tensorflow==2.11.*) (0.37.1)\n",
      "Requirement already satisfied: google-auth-oauthlib<0.5,>=0.4.1 in c:\\users\\admin\\anaconda3\\lib\\site-packages (from tensorboard<2.12,>=2.11->tensorflow-intel==2.11.0->tensorflow==2.11.*) (0.4.6)\n",
      "Requirement already satisfied: markdown>=2.6.8 in c:\\users\\admin\\anaconda3\\lib\\site-packages (from tensorboard<2.12,>=2.11->tensorflow-intel==2.11.0->tensorflow==2.11.*) (3.3.4)\n",
      "Requirement already satisfied: tensorboard-data-server<0.7.0,>=0.6.0 in c:\\users\\admin\\anaconda3\\lib\\site-packages (from tensorboard<2.12,>=2.11->tensorflow-intel==2.11.0->tensorflow==2.11.*) (0.6.1)\n",
      "Requirement already satisfied: google-auth<3,>=1.6.3 in c:\\users\\admin\\anaconda3\\lib\\site-packages (from tensorboard<2.12,>=2.11->tensorflow-intel==2.11.0->tensorflow==2.11.*) (2.16.2)\n",
      "Requirement already satisfied: tensorboard-plugin-wit>=1.6.0 in c:\\users\\admin\\anaconda3\\lib\\site-packages (from tensorboard<2.12,>=2.11->tensorflow-intel==2.11.0->tensorflow==2.11.*) (1.8.1)\n",
      "Requirement already satisfied: werkzeug>=1.0.1 in c:\\users\\admin\\anaconda3\\lib\\site-packages (from tensorboard<2.12,>=2.11->tensorflow-intel==2.11.0->tensorflow==2.11.*) (2.0.3)\n",
      "Requirement already satisfied: requests<3,>=2.21.0 in c:\\users\\admin\\anaconda3\\lib\\site-packages (from tensorboard<2.12,>=2.11->tensorflow-intel==2.11.0->tensorflow==2.11.*) (2.28.1)\n",
      "Requirement already satisfied: pyparsing!=3.0.5,>=2.0.2 in c:\\users\\admin\\anaconda3\\lib\\site-packages (from packaging->tensorflow-intel==2.11.0->tensorflow==2.11.*) (3.0.9)\n",
      "Requirement already satisfied: rsa<5,>=3.1.4 in c:\\users\\admin\\anaconda3\\lib\\site-packages (from google-auth<3,>=1.6.3->tensorboard<2.12,>=2.11->tensorflow-intel==2.11.0->tensorflow==2.11.*) (4.9)\n",
      "Requirement already satisfied: pyasn1-modules>=0.2.1 in c:\\users\\admin\\anaconda3\\lib\\site-packages (from google-auth<3,>=1.6.3->tensorboard<2.12,>=2.11->tensorflow-intel==2.11.0->tensorflow==2.11.*) (0.2.8)\n",
      "Requirement already satisfied: cachetools<6.0,>=2.0.0 in c:\\users\\admin\\anaconda3\\lib\\site-packages (from google-auth<3,>=1.6.3->tensorboard<2.12,>=2.11->tensorflow-intel==2.11.0->tensorflow==2.11.*) (5.3.0)\n",
      "Requirement already satisfied: requests-oauthlib>=0.7.0 in c:\\users\\admin\\anaconda3\\lib\\site-packages (from google-auth-oauthlib<0.5,>=0.4.1->tensorboard<2.12,>=2.11->tensorflow-intel==2.11.0->tensorflow==2.11.*) (1.3.1)\n",
      "Requirement already satisfied: certifi>=2017.4.17 in c:\\users\\admin\\anaconda3\\lib\\site-packages (from requests<3,>=2.21.0->tensorboard<2.12,>=2.11->tensorflow-intel==2.11.0->tensorflow==2.11.*) (2022.9.14)\n",
      "Requirement already satisfied: idna<4,>=2.5 in c:\\users\\admin\\anaconda3\\lib\\site-packages (from requests<3,>=2.21.0->tensorboard<2.12,>=2.11->tensorflow-intel==2.11.0->tensorflow==2.11.*) (3.3)\n",
      "Requirement already satisfied: charset-normalizer<3,>=2 in c:\\users\\admin\\anaconda3\\lib\\site-packages (from requests<3,>=2.21.0->tensorboard<2.12,>=2.11->tensorflow-intel==2.11.0->tensorflow==2.11.*) (2.0.4)\n",
      "Requirement already satisfied: urllib3<1.27,>=1.21.1 in c:\\users\\admin\\anaconda3\\lib\\site-packages (from requests<3,>=2.21.0->tensorboard<2.12,>=2.11->tensorflow-intel==2.11.0->tensorflow==2.11.*) (1.26.11)\n",
      "Requirement already satisfied: pyasn1<0.5.0,>=0.4.6 in c:\\users\\admin\\anaconda3\\lib\\site-packages (from pyasn1-modules>=0.2.1->google-auth<3,>=1.6.3->tensorboard<2.12,>=2.11->tensorflow-intel==2.11.0->tensorflow==2.11.*) (0.4.8)\n",
      "Requirement already satisfied: oauthlib>=3.0.0 in c:\\users\\admin\\anaconda3\\lib\\site-packages (from requests-oauthlib>=0.7.0->google-auth-oauthlib<0.5,>=0.4.1->tensorboard<2.12,>=2.11->tensorflow-intel==2.11.0->tensorflow==2.11.*) (3.2.2)\n"
     ]
    },
    {
     "data": {
      "text/html": [
       "<div>\n",
       "<style scoped>\n",
       "    .dataframe tbody tr th:only-of-type {\n",
       "        vertical-align: middle;\n",
       "    }\n",
       "\n",
       "    .dataframe tbody tr th {\n",
       "        vertical-align: top;\n",
       "    }\n",
       "\n",
       "    .dataframe thead th {\n",
       "        text-align: right;\n",
       "    }\n",
       "</style>\n",
       "<table border=\"1\" class=\"dataframe\">\n",
       "  <thead>\n",
       "    <tr style=\"text-align: right;\">\n",
       "      <th></th>\n",
       "      <th>review</th>\n",
       "      <th>Label</th>\n",
       "    </tr>\n",
       "  </thead>\n",
       "  <tbody>\n",
       "    <tr>\n",
       "      <th>0</th>\n",
       "      <td>I do not know how you can say he is a doctor</td>\n",
       "      <td>Negative</td>\n",
       "    </tr>\n",
       "    <tr>\n",
       "      <th>1</th>\n",
       "      <td>He is not a doctor. Just know how to charge money</td>\n",
       "      <td>negative</td>\n",
       "    </tr>\n",
       "    <tr>\n",
       "      <th>2</th>\n",
       "      <td>Alhmdulillah positive experience</td>\n",
       "      <td>positive</td>\n",
       "    </tr>\n",
       "    <tr>\n",
       "      <th>3</th>\n",
       "      <td>Glad to have good experience</td>\n",
       "      <td>positive</td>\n",
       "    </tr>\n",
       "    <tr>\n",
       "      <th>4</th>\n",
       "      <td>Fair review.</td>\n",
       "      <td>Neutral</td>\n",
       "    </tr>\n",
       "    <tr>\n",
       "      <th>...</th>\n",
       "      <td>...</td>\n",
       "      <td>...</td>\n",
       "    </tr>\n",
       "    <tr>\n",
       "      <th>24430</th>\n",
       "      <td>I booked an appointment for my friend for 12:...</td>\n",
       "      <td>Negative</td>\n",
       "    </tr>\n",
       "    <tr>\n",
       "      <th>24431</th>\n",
       "      <td>Not treated in a good way</td>\n",
       "      <td>Negative</td>\n",
       "    </tr>\n",
       "    <tr>\n",
       "      <th>24432</th>\n",
       "      <td>Doctor Noor Samad khan was a great doctor and ...</td>\n",
       "      <td>Positive</td>\n",
       "    </tr>\n",
       "    <tr>\n",
       "      <th>24433</th>\n",
       "      <td>I feel he is not competent in the field of sex...</td>\n",
       "      <td>Negative</td>\n",
       "    </tr>\n",
       "    <tr>\n",
       "      <th>24434</th>\n",
       "      <td>Bad environment of the clinic</td>\n",
       "      <td>Negative</td>\n",
       "    </tr>\n",
       "  </tbody>\n",
       "</table>\n",
       "<p>24435 rows × 2 columns</p>\n",
       "</div>"
      ],
      "text/plain": [
       "                                                  review     Label\n",
       "0           I do not know how you can say he is a doctor  Negative\n",
       "1      He is not a doctor. Just know how to charge money  negative\n",
       "2                       Alhmdulillah positive experience  positive\n",
       "3                           Glad to have good experience  positive\n",
       "4                                           Fair review.   Neutral\n",
       "...                                                  ...       ...\n",
       "24430   I booked an appointment for my friend for 12:...  Negative\n",
       "24431                          Not treated in a good way  Negative\n",
       "24432  Doctor Noor Samad khan was a great doctor and ...  Positive\n",
       "24433  I feel he is not competent in the field of sex...  Negative\n",
       "24434                      Bad environment of the clinic  Negative\n",
       "\n",
       "[24435 rows x 2 columns]"
      ]
     },
     "execution_count": 1,
     "metadata": {},
     "output_type": "execute_result"
    }
   ],
   "source": [
    "# import pandas as pd\n",
    "# import numpy as np\n",
    "# from keras.preprocessing.text import Tokenizer\n",
    "# from tensorflow.keras.preprocessing.sequence import pad_sequences\n",
    "# from sklearn.model_selection import train_test_split\n",
    "# import nltk\n",
    "# from nltk.corpus import stopwords\n",
    "# from nltk.tokenize import word_tokenize\n",
    "# import re\n",
    "# from keras.utils import to_categorical\n",
    "# from keras.models import Sequential\n",
    "# from keras.layers import Embedding, LSTM, Dense\n",
    "# from keras.callbacks import EarlyStopping\n",
    "# import matplotlib.pyplot as plt\n",
    "# from sklearn.metrics import classification_report\n",
    "# from keras.models import Sequential\n",
    "# from keras.layers import LSTM, Dense, Dropout\n",
    "# from keras.callbacks import EarlyStopping\n",
    "# import matplotlib.pyplot as plt\n",
    "# from sklearn.metrics import accuracy_score, f1_score\n",
    "# !pip install tensorflow==2.11.*\n",
    "# import tensorflow as tf\n",
    "\n",
    "# # Load data\n",
    "# df = pd.read_csv('Reviews(13).csv')\n",
    "# df"
   ]
  },
  {
   "cell_type": "code",
   "execution_count": 2,
   "id": "c6a2d95e",
   "metadata": {},
   "outputs": [
    {
     "data": {
      "text/plain": [
       "Positive    11730\n",
       "Negative     9109\n",
       "Neutral      3596\n",
       "Name: Label, dtype: int64"
      ]
     },
     "execution_count": 2,
     "metadata": {},
     "output_type": "execute_result"
    }
   ],
   "source": [
    "\n",
    "\n",
    "# ## Correcting the spelling of one misspelled label\n",
    "# df['Label'] = df['Label'].str.replace('negative', 'Negative')\n",
    "# df['Label'] = df['Label'].str.replace('neutral', 'Neutral')\n",
    "# df['Label'] = df['Label'].str.replace('positive', 'Positive')\n",
    "# df['Label'] = df['Label'].str.replace('Netural', 'Neutral')\n",
    "# df['Label'] = df['Label'].str.replace(' Neutral', 'Neutral')\n",
    "\n",
    "# df['Label'].unique()\n",
    "\n",
    "# df['Label'].value_counts()"
   ]
  },
  {
   "cell_type": "code",
   "execution_count": 29,
   "id": "e377387d",
   "metadata": {},
   "outputs": [
    {
     "name": "stderr",
     "output_type": "stream",
     "text": [
      "[nltk_data] Downloading package stopwords to\n",
      "[nltk_data]     C:\\Users\\Admin\\AppData\\Roaming\\nltk_data...\n",
      "[nltk_data]   Package stopwords is already up-to-date!\n",
      "[nltk_data] Downloading package punkt to\n",
      "[nltk_data]     C:\\Users\\Admin\\AppData\\Roaming\\nltk_data...\n",
      "[nltk_data]   Package punkt is already up-to-date!\n"
     ]
    },
    {
     "data": {
      "text/plain": [
       "True"
      ]
     },
     "execution_count": 29,
     "metadata": {},
     "output_type": "execute_result"
    }
   ],
   "source": [
    "# nltk.download('stopwords')\n",
    "# nltk.download('punkt')"
   ]
  },
  {
   "cell_type": "code",
   "execution_count": 30,
   "id": "fea6de64",
   "metadata": {},
   "outputs": [],
   "source": [
    "# # Preprocess the text data\n",
    "# stop_words = set(stopwords.words('english'))\n",
    "# def preprocess_text(text):\n",
    "#     # Convert to lowercase\n",
    "#     text = text.lower()\n",
    "#     # Remove non-alphanumeric characters\n",
    "#     text = re.sub(r'\\W+', ' ', text)\n",
    "#     # Remove stopwords\n",
    "#     tokens = word_tokenize(text)\n",
    "#     filtered_tokens = [token for token in tokens if token not in stop_words]\n",
    "#     text = ' '.join(filtered_tokens)\n",
    "#     return text\n",
    "# df['review'] = df['review'].apply(preprocess_text)\n"
   ]
  },
  {
   "cell_type": "code",
   "execution_count": null,
   "id": "e5d4e8b1",
   "metadata": {},
   "outputs": [],
   "source": []
  },
  {
   "cell_type": "code",
   "execution_count": null,
   "id": "45a80694",
   "metadata": {},
   "outputs": [],
   "source": []
  },
  {
   "cell_type": "code",
   "execution_count": null,
   "id": "7d97f334",
   "metadata": {},
   "outputs": [],
   "source": []
  },
  {
   "cell_type": "code",
   "execution_count": null,
   "id": "8ed3dd78",
   "metadata": {},
   "outputs": [],
   "source": []
  },
  {
   "cell_type": "code",
   "execution_count": null,
   "id": "3d6cd4b1",
   "metadata": {},
   "outputs": [],
   "source": []
  },
  {
   "cell_type": "code",
   "execution_count": 9,
   "id": "d3e24860",
   "metadata": {},
   "outputs": [],
   "source": []
  },
  {
   "cell_type": "code",
   "execution_count": null,
   "id": "eba5472a",
   "metadata": {},
   "outputs": [],
   "source": []
  },
  {
   "cell_type": "code",
   "execution_count": null,
   "id": "ce719cfe",
   "metadata": {},
   "outputs": [],
   "source": []
  },
  {
   "cell_type": "code",
   "execution_count": null,
   "id": "2f443d42",
   "metadata": {},
   "outputs": [],
   "source": []
  },
  {
   "cell_type": "code",
   "execution_count": 27,
   "id": "81714908",
   "metadata": {},
   "outputs": [],
   "source": [
    "import pandas as pd\n",
    "import numpy as np\n",
    "from sklearn.model_selection import train_test_split\n",
    "from sklearn.preprocessing import LabelEncoder\n",
    "from keras.preprocessing.text import Tokenizer\n",
    "#from keras.preprocessing.sequence import pad_sequences\n",
    "from tensorflow.keras.preprocessing.sequence import pad_sequences\n",
    "from keras.models import Sequential\n",
    "from keras.layers import LSTM, Dense, Embedding\n",
    "from keras.utils import np_utils\n",
    "from sklearn.metrics import classification_report, confusion_matrix\n",
    "\n",
    "# Load the dataset\n",
    "df = pd.read_csv('Reviews(13).csv')"
   ]
  },
  {
   "cell_type": "code",
   "execution_count": 28,
   "id": "89ae63d3",
   "metadata": {},
   "outputs": [
    {
     "data": {
      "text/plain": [
       "Positive    11730\n",
       "Negative     9109\n",
       "Neutral      3596\n",
       "Name: Label, dtype: int64"
      ]
     },
     "execution_count": 28,
     "metadata": {},
     "output_type": "execute_result"
    }
   ],
   "source": [
    "\n",
    "\n",
    "## Correcting the spelling of one misspelled label\n",
    "df['Label'] = df['Label'].str.replace('negative', 'Negative')\n",
    "df['Label'] = df['Label'].str.replace('neutral', 'Neutral')\n",
    "df['Label'] = df['Label'].str.replace('positive', 'Positive')\n",
    "df['Label'] = df['Label'].str.replace('Netural', 'Neutral')\n",
    "df['Label'] = df['Label'].str.replace(' Neutral', 'Neutral')\n",
    "\n",
    "df['Label'].unique()\n",
    "\n",
    "df['Label'].value_counts()"
   ]
  },
  {
   "cell_type": "code",
   "execution_count": 29,
   "id": "63b6a6a0",
   "metadata": {},
   "outputs": [],
   "source": [
    "# Map the classes to 0, 1, and 2\n",
    "label_encoder = LabelEncoder()\n",
    "df['Label'] = label_encoder.fit_transform(df['Label'])\n",
    "\n",
    "# Split the dataset into training and testing sets\n",
    "X_train, X_test, y_train, y_test = train_test_split(df['review'], df['Label'], test_size=0.2, random_state=42)\n"
   ]
  },
  {
   "cell_type": "code",
   "execution_count": 30,
   "id": "6f30824a",
   "metadata": {},
   "outputs": [],
   "source": [
    "# Convert text to sequences\n",
    "tokenizer = Tokenizer()\n",
    "tokenizer.fit_on_texts(X_train)\n",
    "X_train = tokenizer.texts_to_sequences(X_train)\n",
    "X_test = tokenizer.texts_to_sequences(X_test)\n",
    "\n",
    "# Pad sequences to a fixed length\n",
    "max_length = max([len(seq) for seq in X_train])\n",
    "X_train = pad_sequences(X_train, maxlen=max_length, padding='post')\n",
    "X_test = pad_sequences(X_test, maxlen=max_length, padding='post')\n",
    "\n",
    "# Convert target variable to categorical\n",
    "num_classes = len(np.unique(y_train))\n",
    "y_train = np_utils.to_categorical(y_train, num_classes)\n",
    "y_test = np_utils.to_categorical(y_test, num_classes)\n"
   ]
  },
  {
   "cell_type": "code",
   "execution_count": 31,
   "id": "4f6368a6",
   "metadata": {},
   "outputs": [],
   "source": [
    "# Define the LSTM model\n",
    "model = Sequential()\n",
    "model.add(Embedding(input_dim=len(tokenizer.word_index)+1, output_dim=128, input_length=max_length))\n",
    "model.add(LSTM(units=128))\n",
    "model.add(Dense(units=num_classes, activation='softmax'))\n",
    "\n",
    "# Compile the model\n",
    "model.compile(loss='categorical_crossentropy', optimizer='adam', metrics=['accuracy'])\n"
   ]
  },
  {
   "cell_type": "code",
   "execution_count": 32,
   "id": "00f6e188",
   "metadata": {},
   "outputs": [
    {
     "name": "stdout",
     "output_type": "stream",
     "text": [
      "Epoch 1/20\n",
      "306/306 [==============================] - 46s 133ms/step - loss: 0.8701 - accuracy: 0.6135 - val_loss: 0.6983 - val_accuracy: 0.7336\n",
      "Epoch 2/20\n",
      "306/306 [==============================] - 40s 130ms/step - loss: 0.7209 - accuracy: 0.7188 - val_loss: 0.6964 - val_accuracy: 0.7334\n",
      "Epoch 3/20\n",
      "306/306 [==============================] - 39s 127ms/step - loss: 0.7270 - accuracy: 0.7127 - val_loss: 0.7236 - val_accuracy: 0.7180\n",
      "Epoch 4/20\n",
      "306/306 [==============================] - 39s 129ms/step - loss: 0.7790 - accuracy: 0.6670 - val_loss: 0.7686 - val_accuracy: 0.6708\n",
      "Epoch 5/20\n",
      "306/306 [==============================] - 39s 127ms/step - loss: 0.7911 - accuracy: 0.6578 - val_loss: 0.7830 - val_accuracy: 0.6654\n",
      "Epoch 6/20\n",
      "306/306 [==============================] - 40s 130ms/step - loss: 0.8358 - accuracy: 0.6032 - val_loss: 0.9226 - val_accuracy: 0.5058\n",
      "Epoch 7/20\n",
      "306/306 [==============================] - 39s 128ms/step - loss: 0.9478 - accuracy: 0.4834 - val_loss: 0.9487 - val_accuracy: 0.4874\n",
      "Epoch 8/20\n",
      "306/306 [==============================] - 39s 128ms/step - loss: 0.9657 - accuracy: 0.4718 - val_loss: 0.9531 - val_accuracy: 0.4874\n",
      "Epoch 9/20\n",
      "306/306 [==============================] - 39s 128ms/step - loss: 0.9684 - accuracy: 0.4741 - val_loss: 1.0252 - val_accuracy: 0.4148\n",
      "Epoch 10/20\n",
      "306/306 [==============================] - 39s 127ms/step - loss: 0.9789 - accuracy: 0.4742 - val_loss: 0.9617 - val_accuracy: 0.4874\n",
      "Epoch 11/20\n",
      "306/306 [==============================] - 40s 129ms/step - loss: 0.7927 - accuracy: 0.6235 - val_loss: 0.4406 - val_accuracy: 0.8672\n",
      "Epoch 12/20\n",
      "306/306 [==============================] - 39s 127ms/step - loss: 0.3240 - accuracy: 0.9050 - val_loss: 0.2797 - val_accuracy: 0.9169\n",
      "Epoch 13/20\n",
      "306/306 [==============================] - 39s 128ms/step - loss: 0.1897 - accuracy: 0.9479 - val_loss: 0.1985 - val_accuracy: 0.9417\n",
      "Epoch 14/20\n",
      "306/306 [==============================] - 39s 128ms/step - loss: 0.1375 - accuracy: 0.9620 - val_loss: 0.1922 - val_accuracy: 0.9472\n",
      "Epoch 15/20\n",
      "306/306 [==============================] - 39s 129ms/step - loss: 0.1116 - accuracy: 0.9686 - val_loss: 0.1584 - val_accuracy: 0.9527\n",
      "Epoch 16/20\n",
      "306/306 [==============================] - 40s 130ms/step - loss: 0.1093 - accuracy: 0.9699 - val_loss: 0.1598 - val_accuracy: 0.9562\n",
      "Epoch 17/20\n",
      "306/306 [==============================] - 39s 127ms/step - loss: 0.0898 - accuracy: 0.9754 - val_loss: 0.1415 - val_accuracy: 0.9605\n",
      "Epoch 18/20\n",
      "306/306 [==============================] - 40s 129ms/step - loss: 0.0759 - accuracy: 0.9785 - val_loss: 0.1391 - val_accuracy: 0.9623\n",
      "Epoch 19/20\n",
      "306/306 [==============================] - 39s 127ms/step - loss: 0.0722 - accuracy: 0.9790 - val_loss: 0.1332 - val_accuracy: 0.9636\n",
      "Epoch 20/20\n",
      "306/306 [==============================] - 39s 129ms/step - loss: 0.0642 - accuracy: 0.9804 - val_loss: 0.1310 - val_accuracy: 0.9630\n",
      "Accuracy: 96.30%\n"
     ]
    }
   ],
   "source": [
    "# Train the model\n",
    "history = model.fit(X_train, y_train, epochs=20, batch_size=64, validation_data=(X_test, y_test))\n",
    "\n",
    "# Evaluate the model\n",
    "loss, accuracy = model.evaluate(X_test, y_test, verbose=0)\n",
    "print('Accuracy: %.2f%%' % (accuracy*100))\n"
   ]
  },
  {
   "cell_type": "code",
   "execution_count": 33,
   "id": "6cc23803",
   "metadata": {},
   "outputs": [
    {
     "name": "stdout",
     "output_type": "stream",
     "text": [
      "153/153 [==============================] - 5s 27ms/step\n",
      "              precision    recall  f1-score   support\n",
      "\n",
      "    Negative       0.95      0.98      0.96      1822\n",
      "     Neutral       0.91      0.93      0.92       683\n",
      "    Positive       0.99      0.96      0.98      2382\n",
      "\n",
      "    accuracy                           0.96      4887\n",
      "   macro avg       0.95      0.96      0.95      4887\n",
      "weighted avg       0.96      0.96      0.96      4887\n",
      "\n",
      "[[1777   29   16]\n",
      " [  46  635    2]\n",
      " [  55   33 2294]]\n"
     ]
    }
   ],
   "source": [
    "# Generate predictions\n",
    "y_pred = model.predict(X_test)\n",
    "y_pred = np.argmax(y_pred, axis=1)\n",
    "\n",
    "# Print classification report and confusion matrix\n",
    "target_names = ['Negative', 'Neutral', 'Positive']\n",
    "print(classification_report(y_test.argmax(axis=1), y_pred, target_names=target_names))\n",
    "print(confusion_matrix(y_test.argmax(axis=1), y_pred))"
   ]
  },
  {
   "cell_type": "code",
   "execution_count": 34,
   "id": "9f6ec641",
   "metadata": {},
   "outputs": [
    {
     "data": {
      "image/png": "[encoded data removed]",
      "text/plain": [
       "<Figure size 640x480 with 1 Axes>"
      ]
     },
     "metadata": {},
     "output_type": "display_data"
    },
    {
     "data": {
      "image/png": "[encoded data removed]",
      "text/plain": [
       "<Figure size 640x480 with 1 Axes>"
      ]
     },
     "metadata": {},
     "output_type": "display_data"
    }
   ],
   "source": [
    "# Plot accuracy and loss curves\n",
    "import matplotlib.pyplot as plt\n",
    "plt.plot(history.history['accuracy'])\n",
    "plt.plot(history.history['val_accuracy'])\n",
    "plt.title('Model Accuracy')\n",
    "plt.ylabel('Accuracy')\n",
    "plt.xlabel('Epoch')\n",
    "plt.legend(['train', 'test'], loc='upper left')\n",
    "plt.show()\n",
    "\n",
    "plt.plot(history.history['loss'])\n",
    "plt.plot(history.history['val_loss'])\n",
    "plt.title('Model Loss')\n",
    "plt.ylabel('Loss')\n",
    "plt.xlabel('Epoch')\n",
    "plt.legend(['train', 'test'], loc='upper left')\n",
    "plt.show()"
   ]
  },
  {
   "cell_type": "code",
   "execution_count": 36,
   "id": "9709027f",
   "metadata": {},
   "outputs": [
    {
     "name": "stdout",
     "output_type": "stream",
     "text": [
      "1/1 [==============================] - 0s 53ms/step\n",
      "Review: [   1  139  111 1343    1  284  171 7563  390 1677    0    0    0    0\n",
      "    0    0    0    0    0    0    0    0    0    0    0    0    0    0\n",
      "    0    0    0    0    0    0    0    0    0    0    0    0    0    0\n",
      "    0    0    0    0    0    0    0    0    0    0    0    0    0    0\n",
      "    0    0    0    0    0    0]\n",
      "Predicted class: Negative\n",
      "\n",
      "Review: [   4    1    3 2863    6 4234   59   23    7  322    0    0    0    0\n",
      "    0    0    0    0    0    0    0    0    0    0    0    0    0    0\n",
      "    0    0    0    0    0    0    0    0    0    0    0    0    0    0\n",
      "    0    0    0    0    0    0    0    0    0    0    0    0    0    0\n",
      "    0    0    0    0    0    0]\n",
      "Predicted class: Negative\n",
      "\n",
      "Review: [171  12 315   0   0   0   0   0   0   0   0   0   0   0   0   0   0   0\n",
      "   0   0   0   0   0   0   0   0   0   0   0   0   0   0   0   0   0   0\n",
      "   0   0   0   0   0   0   0   0   0   0   0   0   0   0   0   0   0   0\n",
      "   0   0   0   0   0   0   0   0]\n",
      "Predicted class: Positive\n",
      "\n",
      "Review: [  4   1   3 565  18   4  25   3  10   9   0   0   0   0   0   0   0   0\n",
      "   0   0   0   0   0   0   0   0   0   0   0   0   0   0   0   0   0   0\n",
      "   0   0   0   0   0   0   0   0   0   0   0   0   0   0   0   0   0   0\n",
      "   0   0   0   0   0   0   0   0]\n",
      "Predicted class: Neutral\n",
      "\n"
     ]
    }
   ],
   "source": [
    "# Make predictions on new reviews\n",
    "new_reviews = [\n",
    "    \"Doctor late tha magar doctor na acha tareeqa sa dekha.\",\n",
    "    \"The doctor was terrible. I wouldn't recommend it to anyone.\",\n",
    "    \"Acha experience raha.\",\n",
    "    \"The doctor was okay, but the staff was not good.\"\n",
    "]\n",
    "new_reviews = tokenizer.texts_to_sequences(new_reviews)\n",
    "new_reviews = pad_sequences(new_reviews, maxlen=max_length, padding='post')\n",
    "new_pred = model.predict(new_reviews)\n",
    "new_pred = np.argmax(new_pred, axis=1)\n",
    "\n",
    "for i in range(len(new_reviews)):\n",
    "    print('Review:', new_reviews[i])\n",
    "    print('Predicted class:', label_encoder.inverse_transform([new_pred[i]])[0])\n",
    "    print()\n"
   ]
  },
  {
   "cell_type": "code",
   "execution_count": null,
   "id": "a1ae6577",
   "metadata": {},
   "outputs": [],
   "source": []
  }
 ],
 "metadata": {
  "kernelspec": {
   "display_name": "Python 3 (ipykernel)",
   "language": "python",
   "name": "python3"
  },
  "language_info": {
   "codemirror_mode": {
    "name": "ipython",
    "version": 3
   },
   "file_extension": ".py",
   "mimetype": "text/x-python",
   "name": "python",
   "nbconvert_exporter": "python",
   "pygments_lexer": "ipython3",
   "version": "3.9.13"
  }
 },
 "nbformat": 4,
 "nbformat_minor": 5
}
