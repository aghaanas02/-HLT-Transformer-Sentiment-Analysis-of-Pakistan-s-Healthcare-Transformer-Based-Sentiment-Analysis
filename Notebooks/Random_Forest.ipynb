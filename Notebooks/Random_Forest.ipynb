{
 "cells": [
  {
   "cell_type": "code",
   "execution_count": 11,
   "metadata": {},
   "outputs": [],
   "source": [
    "import pandas as pd\n",
    "from sklearn.ensemble import RandomForestClassifier\n",
    "from sklearn.metrics import f1_score, accuracy_score, classification_report\n",
    "from sklearn.model_selection import train_test_split\n",
    "from sklearn.feature_extraction.text import CountVectorizer\n",
    "\n",
    "# Load the dataset from CSV file\n",
    "data = pd.read_csv('Reviews(13).csv')"
   ]
  },
  {
   "cell_type": "code",
   "execution_count": 12,
   "metadata": {},
   "outputs": [
    {
     "data": {
      "text/html": [
       "<div>\n",
       "<style scoped>\n",
       "    .dataframe tbody tr th:only-of-type {\n",
       "        vertical-align: middle;\n",
       "    }\n",
       "\n",
       "    .dataframe tbody tr th {\n",
       "        vertical-align: top;\n",
       "    }\n",
       "\n",
       "    .dataframe thead th {\n",
       "        text-align: right;\n",
       "    }\n",
       "</style>\n",
       "<table border=\"1\" class=\"dataframe\">\n",
       "  <thead>\n",
       "    <tr style=\"text-align: right;\">\n",
       "      <th></th>\n",
       "      <th>review</th>\n",
       "      <th>Label</th>\n",
       "    </tr>\n",
       "  </thead>\n",
       "  <tbody>\n",
       "    <tr>\n",
       "      <th>0</th>\n",
       "      <td>I do not know how you can say he is a doctor</td>\n",
       "      <td>Negative</td>\n",
       "    </tr>\n",
       "    <tr>\n",
       "      <th>1</th>\n",
       "      <td>He is not a doctor. Just know how to charge money</td>\n",
       "      <td>negative</td>\n",
       "    </tr>\n",
       "    <tr>\n",
       "      <th>2</th>\n",
       "      <td>Alhmdulillah positive experience</td>\n",
       "      <td>positive</td>\n",
       "    </tr>\n",
       "    <tr>\n",
       "      <th>3</th>\n",
       "      <td>Glad to have good experience</td>\n",
       "      <td>positive</td>\n",
       "    </tr>\n",
       "    <tr>\n",
       "      <th>4</th>\n",
       "      <td>Fair review.</td>\n",
       "      <td>Neutral</td>\n",
       "    </tr>\n",
       "    <tr>\n",
       "      <th>...</th>\n",
       "      <td>...</td>\n",
       "      <td>...</td>\n",
       "    </tr>\n",
       "    <tr>\n",
       "      <th>24430</th>\n",
       "      <td>I booked an appointment for my friend for 12:...</td>\n",
       "      <td>Negative</td>\n",
       "    </tr>\n",
       "    <tr>\n",
       "      <th>24431</th>\n",
       "      <td>Not treated in a good way</td>\n",
       "      <td>Negative</td>\n",
       "    </tr>\n",
       "    <tr>\n",
       "      <th>24432</th>\n",
       "      <td>Doctor Noor Samad khan was a great doctor and ...</td>\n",
       "      <td>Positive</td>\n",
       "    </tr>\n",
       "    <tr>\n",
       "      <th>24433</th>\n",
       "      <td>I feel he is not competent in the field of sex...</td>\n",
       "      <td>Negative</td>\n",
       "    </tr>\n",
       "    <tr>\n",
       "      <th>24434</th>\n",
       "      <td>Bad environment of the clinic</td>\n",
       "      <td>Negative</td>\n",
       "    </tr>\n",
       "  </tbody>\n",
       "</table>\n",
       "<p>24435 rows × 2 columns</p>\n",
       "</div>"
      ],
      "text/plain": [
       "                                                  review     Label\n",
       "0           I do not know how you can say he is a doctor  Negative\n",
       "1      He is not a doctor. Just know how to charge money  negative\n",
       "2                       Alhmdulillah positive experience  positive\n",
       "3                           Glad to have good experience  positive\n",
       "4                                           Fair review.   Neutral\n",
       "...                                                  ...       ...\n",
       "24430   I booked an appointment for my friend for 12:...  Negative\n",
       "24431                          Not treated in a good way  Negative\n",
       "24432  Doctor Noor Samad khan was a great doctor and ...  Positive\n",
       "24433  I feel he is not competent in the field of sex...  Negative\n",
       "24434                      Bad environment of the clinic  Negative\n",
       "\n",
       "[24435 rows x 2 columns]"
      ]
     },
     "execution_count": 12,
     "metadata": {},
     "output_type": "execute_result"
    }
   ],
   "source": [
    "data"
   ]
  },
  {
   "cell_type": "code",
   "execution_count": 13,
   "metadata": {
    "colab": {
     "base_uri": "https://localhost:8080/"
    },
    "id": "BE_4Vzv1hHU_",
    "outputId": "c058b730-84df-471a-c310-188b50eb5c9e"
   },
   "outputs": [
    {
     "name": "stdout",
     "output_type": "stream",
     "text": [
      "F1-Score: 0.9633\n",
      "Accuracy: 0.9632\n",
      "              precision    recall  f1-score   support\n",
      "\n",
      "    Negative       0.95      0.97      0.96      1822\n",
      "     Neutral       0.93      0.94      0.93       683\n",
      "    Positive       0.99      0.97      0.98      2382\n",
      "\n",
      "    accuracy                           0.96      4887\n",
      "   macro avg       0.95      0.96      0.96      4887\n",
      "weighted avg       0.96      0.96      0.96      4887\n",
      "\n",
      "['Positive' 'Negative' 'Neutral' 'Negative']\n"
     ]
    }
   ],
   "source": [
    "\n",
    "\n",
    "## Correcting the spelling of one misspelled label\n",
    "data['Label'] = data['Label'].str.replace('negative', 'Negative')\n",
    "data['Label'] = data['Label'].str.replace('neutral', 'Neutral')\n",
    "data['Label'] = data['Label'].str.replace('positive', 'Positive')\n",
    "data['Label'] = data['Label'].str.replace('Netural', 'Neutral')\n",
    "data['Label'] = data['Label'].str.replace(' Neutral', 'Neutral')\n",
    "\n",
    "data['Label'].unique()\n",
    "\n",
    "data['Label'].value_counts()\n",
    "\n",
    "# Split the data into training and testing sets\n",
    "X_train, X_test, y_train, y_test = train_test_split(data['review'], data['Label'], test_size=0.2, random_state=42)\n",
    "\n",
    "# Create a CountVectorizer object to convert the text data to numerical features\n",
    "vectorizer = CountVectorizer()\n",
    "X_train = vectorizer.fit_transform(X_train)\n",
    "X_test = vectorizer.transform(X_test)\n",
    "\n",
    "# Initialize a Random Forest classifier with 100 trees\n",
    "rfc = RandomForestClassifier(n_estimators=100, random_state=42)\n",
    "\n",
    "# Train the classifier on the training data\n",
    "rfc.fit(X_train, y_train)\n",
    "\n",
    "# Make predictions on the test data\n",
    "y_pred = rfc.predict(X_test)\n",
    "\n",
    "# Calculate the F1-score and accuracy of the predictions\n",
    "f1 = f1_score(y_test, y_pred, average='weighted')\n",
    "acc = accuracy_score(y_test, y_pred)\n",
    "print(f'F1-Score: {f1:.4f}')\n",
    "print(f'Accuracy: {acc:.4f}')\n",
    "\n",
    "# Print classification report\n",
    "report = classification_report(y_test, y_pred)\n",
    "print(report)\n",
    "\n",
    "# Make predictions on some new reviews\n",
    "new_reviews = [\n",
    "    'This doctor was fantastic!',\n",
    "    'I hated this hospital.',\n",
    "    'Ok experience tha',\n",
    "    'Bohat bura experience tha.'\n",
    "]\n",
    "new_reviews_transformed = vectorizer.transform(new_reviews)\n",
    "new_predictions = rfc.predict(new_reviews_transformed)\n",
    "print(new_predictions)\n"
   ]
  },
  {
   "cell_type": "code",
   "execution_count": 14,
   "metadata": {
    "colab": {
     "base_uri": "https://localhost:8080/"
    },
    "id": "_urlNu7on6LD",
    "outputId": "a49555f5-9ffb-46c1-d22d-c3f4d98cac91"
   },
   "outputs": [
    {
     "data": {
      "text/plain": [
       "Positive    11730\n",
       "Negative     9109\n",
       "Neutral      3596\n",
       "Name: Label, dtype: int64"
      ]
     },
     "execution_count": 14,
     "metadata": {},
     "output_type": "execute_result"
    }
   ],
   "source": [
    "data['Label'].value_counts()"
   ]
  },
  {
   "cell_type": "code",
   "execution_count": null,
   "metadata": {},
   "outputs": [],
   "source": []
  }
 ],
 "metadata": {
  "colab": {
   "provenance": []
  },
  "kernelspec": {
   "display_name": "Python 3 (ipykernel)",
   "language": "python",
   "name": "python3"
  },
  "language_info": {
   "codemirror_mode": {
    "name": "ipython",
    "version": 3
   },
   "file_extension": ".py",
   "mimetype": "text/x-python",
   "name": "python",
   "nbconvert_exporter": "python",
   "pygments_lexer": "ipython3",
   "version": "3.9.13"
  }
 },
 "nbformat": 4,
 "nbformat_minor": 1
}
