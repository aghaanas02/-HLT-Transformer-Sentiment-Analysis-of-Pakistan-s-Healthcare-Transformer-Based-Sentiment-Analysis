{
 "cells": [
  {
   "cell_type": "code",
   "execution_count": 3,
   "id": "e1fb83b2",
   "metadata": {},
   "outputs": [],
   "source": [
    "import pandas as pd\n",
    "from transformers import RobertaTokenizer\n",
    "\n",
    "# Load the data into a pandas dataframe\n",
    "df = pd.read_csv('Reviews(13).csv')\n",
    "\n",
    "\n",
    "## Correcting the spelling of one misspelled label\n",
    "df['Label'] = df['Label'].str.replace('negative', 'Negative')\n",
    "df['Label'] = df['Label'].str.replace('neutral', 'Neutral')\n",
    "df['Label'] = df['Label'].str.replace('positive', 'Positive')\n",
    "df['Label'] = df['Label'].str.replace('Netural', 'Neutral')\n",
    "df['Label'] = df['Label'].str.replace(' Neutral', 'Neutral')\n",
    "\n",
    "df['Label'].unique()\n",
    "\n",
    "df['Label'].value_counts()\n",
    "\n",
    "# Initialize the tokenizer\n",
    "tokenizer = RobertaTokenizer.from_pretrained('roberta-base')\n",
    "\n",
    "# Tokenize the text and convert it to numerical vectors\n",
    "encoded_texts = [tokenizer.encode(text, max_length=512, truncation=True) for text in df['review']]\n",
    "\n",
    "# Pad the sequences to a uniform length\n",
    "padded_texts = [text + [0]*(512-len(text)) for text in encoded_texts]\n",
    "\n",
    "# Convert the labels to numerical values\n",
    "label_map = {'Positive': 0, 'Neutral': 1, 'Negative': 2}\n",
    "labels = [label_map[label] for label in df['Label']]\n"
   ]
  },
  {
   "cell_type": "markdown",
   "id": "ba364e60",
   "metadata": {},
   "source": [
    "# Splitting the data\n"
   ]
  },
  {
   "cell_type": "code",
   "execution_count": 4,
   "id": "3982e213",
   "metadata": {},
   "outputs": [],
   "source": [
    "from sklearn.model_selection import train_test_split\n",
    "\n",
    "# Split the data into training, validation, and test sets\n",
    "train_texts, test_texts, train_labels, test_labels = train_test_split(padded_texts, labels, test_size=0.2, random_state=42)\n",
    "train_texts, val_texts, train_labels, val_labels = train_test_split(train_texts, train_labels, test_size=0.2, random_state=42)\n"
   ]
  },
  {
   "cell_type": "markdown",
   "id": "a597a84e",
   "metadata": {},
   "source": [
    "# Train the RoBERTa model:\n",
    " "
   ]
  },
  {
   "cell_type": "code",
   "execution_count": 5,
   "id": "f4058a85",
   "metadata": {},
   "outputs": [
    {
     "data": {
      "application/vnd.jupyter.widget-view+json": {
       "model_id": "48fd081cff8d4e039253333aacc6bdad",
       "version_major": 2,
       "version_minor": 0
      },
      "text/plain": [
       "Downloading pytorch_model.bin:   0%|          | 0.00/501M [00:00<?, ?B/s]"
      ]
     },
     "metadata": {},
     "output_type": "display_data"
    },
    {
     "name": "stderr",
     "output_type": "stream",
     "text": [
      "Some weights of the model checkpoint at roberta-base were not used when initializing RobertaForSequenceClassification: ['lm_head.dense.weight', 'roberta.pooler.dense.weight', 'lm_head.layer_norm.weight', 'lm_head.bias', 'lm_head.dense.bias', 'lm_head.decoder.weight', 'lm_head.layer_norm.bias', 'roberta.pooler.dense.bias']\n",
      "- This IS expected if you are initializing RobertaForSequenceClassification from the checkpoint of a model trained on another task or with another architecture (e.g. initializing a BertForSequenceClassification model from a BertForPreTraining model).\n",
      "- This IS NOT expected if you are initializing RobertaForSequenceClassification from the checkpoint of a model that you expect to be exactly identical (initializing a BertForSequenceClassification model from a BertForSequenceClassification model).\n",
      "Some weights of RobertaForSequenceClassification were not initialized from the model checkpoint at roberta-base and are newly initialized: ['classifier.out_proj.weight', 'classifier.dense.bias', 'classifier.dense.weight', 'classifier.out_proj.bias']\n",
      "You should probably TRAIN this model on a down-stream task to be able to use it for predictions and inference.\n",
      "C:\\Users\\Admin\\anaconda3\\lib\\site-packages\\transformers\\optimization.py:306: FutureWarning: This implementation of AdamW is deprecated and will be removed in a future version. Use the PyTorch implementation torch.optim.AdamW instead, or set `no_deprecation_warning=True` to disable this warning\n",
      "  warnings.warn(\n"
     ]
    }
   ],
   "source": [
    "import torch\n",
    "from torch.utils.data import TensorDataset, DataLoader\n",
    "from transformers import RobertaForSequenceClassification, AdamW\n",
    "\n",
    "# Initialize the RoBERTa model and the classification layer\n",
    "model = RobertaForSequenceClassification.from_pretrained('roberta-base', num_labels=3)\n",
    "\n",
    "# Define the training parameters\n",
    "batch_size = 16\n",
    "epochs = 5\n",
    "learning_rate = 2e-5\n",
    "\n",
    "# Convert the data into PyTorch tensors and create a DataLoader\n",
    "train_dataset = TensorDataset(torch.tensor(train_texts), torch.tensor(train_labels))\n",
    "train_loader = DataLoader(train_dataset, batch_size=batch_size, shuffle=True)\n",
    "\n",
    "# Initialize the optimizer and the loss function\n",
    "optimizer = AdamW(model.parameters(), lr=learning_rate)\n",
    "loss_fn = torch.nn.CrossEntropyLoss()\n",
    "\n",
    "# Train the model\n",
    "for epoch in range(epochs):\n",
    "    for batch in train_loader:\n",
    "        optimizer.zero_grad()\n",
    "        inputs, labels = batch\n",
    "        outputs = model(inputs)[0]\n",
    "        loss = loss_fn(outputs, labels)\n",
    "        loss.backward()\n",
    "        optimizer.step()\n"
   ]
  },
  {
   "cell_type": "markdown",
   "id": "dfa137f7",
   "metadata": {},
   "source": [
    "# Train the RoBERTa model\n"
   ]
  },
  {
   "cell_type": "code",
   "execution_count": null,
   "id": "29d889b2",
   "metadata": {},
   "outputs": [],
   "source": [
    "# import torch\n",
    "# from torch.utils.data import TensorDataset, DataLoader\n",
    "# from transformers import RobertaForSequenceClassification, AdamW\n",
    "\n",
    "# # Initialize the RoBERTa model and the classification layer\n",
    "# model = RobertaForSequenceClassification.from_pretrained('roberta-base', num_labels=3)\n",
    "\n",
    "# # Define the training parameters\n",
    "# batch_size = 16\n",
    "# epochs = 5\n",
    "# learning_rate = 2e-5\n",
    "\n",
    "# # Convert the data into PyTorch tensors and create a DataLoader\n",
    "# train_dataset = TensorDataset(torch.tensor(train_texts), torch.tensor(train_labels))\n",
    "# train_loader = DataLoader(train_dataset, batch_size=batch_size, shuffle=True)\n",
    "\n",
    "# # Initialize the optimizer and the loss function\n",
    "# optimizer = AdamW(model.parameters(), lr=learning_rate)\n",
    "# loss_fn = torch.nn.CrossEntropyLoss()\n",
    "\n",
    "# # Train the model\n",
    "# for epoch in range(epochs):\n",
    "#     for batch in train_loader:\n",
    "#         optimizer.zero_grad()\n",
    "#         inputs, labels = batch\n",
    "#         outputs = model(inputs)[0]\n",
    "#         loss = loss_fn(outputs, labels)\n",
    "#         loss.backward()\n",
    "#         optimizer.step()\n"
   ]
  },
  {
   "cell_type": "markdown",
   "id": "813f99fc",
   "metadata": {},
   "source": [
    "# Evaluate the RoBERTa model"
   ]
  },
  {
   "cell_type": "code",
   "execution_count": 7,
   "id": "978f92f8",
   "metadata": {},
   "outputs": [],
   "source": [
    "from sklearn.metrics import accuracy_score, f1_score, classification_report\n",
    "\n",
    "# Convert the validation data into PyTorch tensors and create a DataLoader\n",
    "val_dataset = TensorDataset(torch.tensor(val_texts), torch.tensor(val_labels))\n",
    "val_loader = DataLoader(val_dataset, batch_size=batch_size)\n",
    "\n",
    "# Evaluate the model on the validation set\n",
    "with torch.no_grad():\n",
    "    val_preds = []\n",
    "    val_true = []\n",
    "    for batch in val_loader:\n",
    "        inputs, labels = batch\n",
    "        outputs = model(inputs)[0]\n",
    "        _, preds = torch.max(outputs, dim=1)\n",
    "        val_preds.extend(preds.tolist())\n",
    "        val_true.extend(labels.tolist())\n",
    "\n",
    "# Compute the evaluation metrics\n",
    "val_acc = accuracy_score(val_true, val_preds)\n",
    "val_f1 = f1_score(val_true, val_preds, average='macro')\n",
    "val_report = classification_report(val_true, val_preds)\n"
   ]
  },
  {
   "cell_type": "code",
   "execution_count": 8,
   "id": "96ad7eb4",
   "metadata": {},
   "outputs": [
    {
     "name": "stdout",
     "output_type": "stream",
     "text": [
      "0.9450127877237852\n",
      "0.9242055590859263\n",
      "              precision    recall  f1-score   support\n",
      "\n",
      "           0       0.99      0.96      0.97      1908\n",
      "           1       0.95      0.79      0.86       570\n",
      "           2       0.90      0.99      0.94      1432\n",
      "\n",
      "    accuracy                           0.95      3910\n",
      "   macro avg       0.94      0.91      0.92      3910\n",
      "weighted avg       0.95      0.95      0.94      3910\n",
      "\n"
     ]
    }
   ],
   "source": [
    "print (val_acc)\n",
    "print (val_f1)\n",
    "print (val_report)"
   ]
  },
  {
   "cell_type": "markdown",
   "id": "1072b068",
   "metadata": {},
   "source": [
    "# Get predictions"
   ]
  },
  {
   "cell_type": "code",
   "execution_count": 13,
   "id": "51a65c49",
   "metadata": {},
   "outputs": [
    {
     "name": "stdout",
     "output_type": "stream",
     "text": [
      "LABEL_0: 0.942875862121582\n",
      "LABEL_2: 0.7678003907203674\n",
      "LABEL_1: 0.7025073170661926\n"
     ]
    }
   ],
   "source": [
    "from transformers import pipeline\n",
    "\n",
    "# Define the pipeline for text classification\n",
    "classifier = pipeline('text-classification', model=model, tokenizer=tokenizer)\n",
    "\n",
    "# Define some sample texts to classify\n",
    "sample_texts = [\n",
    "    \"The doctor is amazing!\",\n",
    "    \"The video consultation service was terrible.\",\n",
    "    \"Average experience tha\"\n",
    "]\n",
    "\n",
    "# Classify the sample texts\n",
    "predictions = classifier(sample_texts, truncation=True)\n",
    "\n",
    "# Print the predictions\n",
    "for prediction in predictions:\n",
    "    label = prediction['label']\n",
    "    score = prediction['score']\n",
    "    print(f\"{label}: {score}\")\n"
   ]
  },
  {
   "cell_type": "code",
   "execution_count": null,
   "id": "8e99213c",
   "metadata": {},
   "outputs": [],
   "source": []
  }
 ],
 "metadata": {
  "kernelspec": {
   "display_name": "Python 3 (ipykernel)",
   "language": "python",
   "name": "python3"
  },
  "language_info": {
   "codemirror_mode": {
    "name": "ipython",
    "version": 3
   },
   "file_extension": ".py",
   "mimetype": "text/x-python",
   "name": "python",
   "nbconvert_exporter": "python",
   "pygments_lexer": "ipython3",
   "version": "3.9.13"
  }
 },
 "nbformat": 4,
 "nbformat_minor": 5
}
